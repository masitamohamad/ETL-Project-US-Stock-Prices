{
 "cells": [
  {
   "cell_type": "code",
   "execution_count": 60,
   "metadata": {},
   "outputs": [],
   "source": [
    "import pandas as pd\n",
    "import datetime as dt"
   ]
  },
  {
   "cell_type": "code",
   "execution_count": 61,
   "metadata": {},
   "outputs": [],
   "source": [
    "path = 'D:/Data Analytics Bootamp/Week 13 - ETL (Extract, Transform, Load)/145153_1116148_upload_stocks_latest'\n",
    "\n",
    "#Create our dataframes\n",
    "dividends_df = pd.read_csv(f'{path}/dividends_latest.csv')\n",
    "earnings_df = pd.read_csv(f'{path}/earnings_latest.csv')\n",
    "prices_df = pd.read_csv(f'{path}/stock_prices_latest.csv')"
   ]
  },
  {
   "cell_type": "code",
   "execution_count": 62,
   "metadata": {},
   "outputs": [],
   "source": [
    "# Convert the pandas object to a datetime object\n",
    "dividends_df['date'] = pd.to_datetime(dividends_df['date'])\n",
    "earnings_df['date'] = pd.to_datetime(earnings_df['date'])\n",
    "prices_df['date'] = pd.to_datetime(prices_df['date'])"
   ]
  },
  {
   "cell_type": "code",
   "execution_count": 63,
   "metadata": {},
   "outputs": [],
   "source": [
    "# Create our 'year' column in order to group by\n",
    "dividends_df['year'] = pd.DatetimeIndex(dividends_df['date']).year\n",
    "earnings_df['year'] = pd.DatetimeIndex(earnings_df['date']).year\n",
    "prices_df['year'] = pd.DatetimeIndex(prices_df['date']).year"
   ]
  },
  {
   "cell_type": "code",
   "execution_count": 64,
   "metadata": {},
   "outputs": [
    {
     "output_type": "execute_result",
     "data": {
      "text/plain": "  symbol       date   open   high    low  close  year  differential\n0   MSFT 2016-05-16  50.80  51.96  50.75  51.83  2016          1.03\n1   MSFT 2002-01-16  68.85  69.84  67.85  67.87  2002         -0.98\n2   MSFT 2001-09-18  53.41  55.00  53.17  54.32  2001          0.91\n3   MSFT 2007-10-26  36.01  36.03  34.56  35.03  2007         -0.98\n4   MSFT 2014-06-27  41.61  42.29  41.51  42.25  2014          0.64",
      "text/html": "<div>\n<style scoped>\n    .dataframe tbody tr th:only-of-type {\n        vertical-align: middle;\n    }\n\n    .dataframe tbody tr th {\n        vertical-align: top;\n    }\n\n    .dataframe thead th {\n        text-align: right;\n    }\n</style>\n<table border=\"1\" class=\"dataframe\">\n  <thead>\n    <tr style=\"text-align: right;\">\n      <th></th>\n      <th>symbol</th>\n      <th>date</th>\n      <th>open</th>\n      <th>high</th>\n      <th>low</th>\n      <th>close</th>\n      <th>year</th>\n      <th>differential</th>\n    </tr>\n  </thead>\n  <tbody>\n    <tr>\n      <td>0</td>\n      <td>MSFT</td>\n      <td>2016-05-16</td>\n      <td>50.80</td>\n      <td>51.96</td>\n      <td>50.75</td>\n      <td>51.83</td>\n      <td>2016</td>\n      <td>1.03</td>\n    </tr>\n    <tr>\n      <td>1</td>\n      <td>MSFT</td>\n      <td>2002-01-16</td>\n      <td>68.85</td>\n      <td>69.84</td>\n      <td>67.85</td>\n      <td>67.87</td>\n      <td>2002</td>\n      <td>-0.98</td>\n    </tr>\n    <tr>\n      <td>2</td>\n      <td>MSFT</td>\n      <td>2001-09-18</td>\n      <td>53.41</td>\n      <td>55.00</td>\n      <td>53.17</td>\n      <td>54.32</td>\n      <td>2001</td>\n      <td>0.91</td>\n    </tr>\n    <tr>\n      <td>3</td>\n      <td>MSFT</td>\n      <td>2007-10-26</td>\n      <td>36.01</td>\n      <td>36.03</td>\n      <td>34.56</td>\n      <td>35.03</td>\n      <td>2007</td>\n      <td>-0.98</td>\n    </tr>\n    <tr>\n      <td>4</td>\n      <td>MSFT</td>\n      <td>2014-06-27</td>\n      <td>41.61</td>\n      <td>42.29</td>\n      <td>41.51</td>\n      <td>42.25</td>\n      <td>2014</td>\n      <td>0.64</td>\n    </tr>\n  </tbody>\n</table>\n</div>"
     },
     "metadata": {},
     "execution_count": 64
    }
   ],
   "source": [
    "# Create a 'differential' column, difference between close and open price\n",
    "prices_df['differential'] = prices_df['close'] - prices_df['open']\n",
    "prices_df.head()"
   ]
  },
  {
   "cell_type": "code",
   "execution_count": 65,
   "metadata": {},
   "outputs": [],
   "source": [
    "# Drop the NAs from our datasets\n",
    "dividends_df = dividends_df.dropna()\n",
    "earnings_df = earnings_df.dropna()\n",
    "prices_df = prices_df.dropna()"
   ]
  },
  {
   "cell_type": "code",
   "execution_count": 66,
   "metadata": {},
   "outputs": [],
   "source": [
    "# Group our datasets and generate our aggregate statistics\n",
    "#g_dividends_df = dividends_df.groupby('symbol_year').agg({'dividend': ['mean', 'min', 'max','sum']})\n",
    "g_dividends_df = dividends_df.groupby(['symbol', 'year']).agg({'dividend': ['mean', 'min', 'max','sum']})\n",
    "g_dividends_df.columns = ['dividend_mean', 'dividend_min', 'dividend_max','dividend_sum']\n",
    "g_dividends_df = g_dividends_df.reset_index()\n",
    "g_dividends_df['symbol_year'] = g_dividends_df['symbol'].astype(str) + g_dividends_df['year'].astype(str)\n",
    "\n",
    "g_earnings_df = earnings_df.groupby(['symbol', 'year']).agg({'eps': ['sum']})\n",
    "g_earnings_df.columns = ['eps_sum']\n",
    "g_earnings_df = g_earnings_df.reset_index()\n",
    "g_earnings_df['symbol_year'] = g_earnings_df['symbol'].astype(str) + g_earnings_df['year'].astype(str)\n",
    "\n",
    "g_prices_df = prices_df.groupby(['symbol', 'year']).agg({'low':'min','high':'max','differential':'mean'})\n",
    "g_prices_df.columns = ['low_min','high_max','avg_differential']\n",
    "g_prices_df = g_prices_df.reset_index()\n",
    "g_prices_df['symbol_year'] = g_prices_df['symbol'].astype(str) + g_prices_df['year'].astype(str)"
   ]
  },
  {
   "cell_type": "code",
   "execution_count": 67,
   "metadata": {},
   "outputs": [
    {
     "output_type": "execute_result",
     "data": {
      "text/plain": "  symbol  year  dividend_mean  dividend_min  dividend_max  dividend_sum  \\\n0      A  2012        0.10000         0.100         0.100         0.400   \n1      A  2013        0.12300         0.120         0.132         0.492   \n2      A  2014        4.03650         0.132        15.750        16.146   \n3      A  2015        0.10300         0.100         0.115         0.515   \n4      A  2016        0.11925         0.115         0.132         0.477   \n\n  symbol_year  \n0       A2012  \n1       A2013  \n2       A2014  \n3       A2015  \n4       A2016  ",
      "text/html": "<div>\n<style scoped>\n    .dataframe tbody tr th:only-of-type {\n        vertical-align: middle;\n    }\n\n    .dataframe tbody tr th {\n        vertical-align: top;\n    }\n\n    .dataframe thead th {\n        text-align: right;\n    }\n</style>\n<table border=\"1\" class=\"dataframe\">\n  <thead>\n    <tr style=\"text-align: right;\">\n      <th></th>\n      <th>symbol</th>\n      <th>year</th>\n      <th>dividend_mean</th>\n      <th>dividend_min</th>\n      <th>dividend_max</th>\n      <th>dividend_sum</th>\n      <th>symbol_year</th>\n    </tr>\n  </thead>\n  <tbody>\n    <tr>\n      <td>0</td>\n      <td>A</td>\n      <td>2012</td>\n      <td>0.10000</td>\n      <td>0.100</td>\n      <td>0.100</td>\n      <td>0.400</td>\n      <td>A2012</td>\n    </tr>\n    <tr>\n      <td>1</td>\n      <td>A</td>\n      <td>2013</td>\n      <td>0.12300</td>\n      <td>0.120</td>\n      <td>0.132</td>\n      <td>0.492</td>\n      <td>A2013</td>\n    </tr>\n    <tr>\n      <td>2</td>\n      <td>A</td>\n      <td>2014</td>\n      <td>4.03650</td>\n      <td>0.132</td>\n      <td>15.750</td>\n      <td>16.146</td>\n      <td>A2014</td>\n    </tr>\n    <tr>\n      <td>3</td>\n      <td>A</td>\n      <td>2015</td>\n      <td>0.10300</td>\n      <td>0.100</td>\n      <td>0.115</td>\n      <td>0.515</td>\n      <td>A2015</td>\n    </tr>\n    <tr>\n      <td>4</td>\n      <td>A</td>\n      <td>2016</td>\n      <td>0.11925</td>\n      <td>0.115</td>\n      <td>0.132</td>\n      <td>0.477</td>\n      <td>A2016</td>\n    </tr>\n  </tbody>\n</table>\n</div>"
     },
     "metadata": {},
     "execution_count": 67
    }
   ],
   "source": [
    "g_dividends_df.head()"
   ]
  },
  {
   "cell_type": "code",
   "execution_count": 68,
   "metadata": {},
   "outputs": [
    {
     "output_type": "execute_result",
     "data": {
      "text/plain": "  symbol  year  eps_sum symbol_year\n0      A  2012     0.84       A2012\n1      A  2013     2.89       A2013\n2      A  2014     2.33       A2014\n3      A  2015     1.73       A2015\n4      A  2016     1.98       A2016",
      "text/html": "<div>\n<style scoped>\n    .dataframe tbody tr th:only-of-type {\n        vertical-align: middle;\n    }\n\n    .dataframe tbody tr th {\n        vertical-align: top;\n    }\n\n    .dataframe thead th {\n        text-align: right;\n    }\n</style>\n<table border=\"1\" class=\"dataframe\">\n  <thead>\n    <tr style=\"text-align: right;\">\n      <th></th>\n      <th>symbol</th>\n      <th>year</th>\n      <th>eps_sum</th>\n      <th>symbol_year</th>\n    </tr>\n  </thead>\n  <tbody>\n    <tr>\n      <td>0</td>\n      <td>A</td>\n      <td>2012</td>\n      <td>0.84</td>\n      <td>A2012</td>\n    </tr>\n    <tr>\n      <td>1</td>\n      <td>A</td>\n      <td>2013</td>\n      <td>2.89</td>\n      <td>A2013</td>\n    </tr>\n    <tr>\n      <td>2</td>\n      <td>A</td>\n      <td>2014</td>\n      <td>2.33</td>\n      <td>A2014</td>\n    </tr>\n    <tr>\n      <td>3</td>\n      <td>A</td>\n      <td>2015</td>\n      <td>1.73</td>\n      <td>A2015</td>\n    </tr>\n    <tr>\n      <td>4</td>\n      <td>A</td>\n      <td>2016</td>\n      <td>1.98</td>\n      <td>A2016</td>\n    </tr>\n  </tbody>\n</table>\n</div>"
     },
     "metadata": {},
     "execution_count": 68
    }
   ],
   "source": [
    "g_earnings_df.head()"
   ]
  },
  {
   "cell_type": "code",
   "execution_count": 69,
   "metadata": {},
   "outputs": [
    {
     "output_type": "execute_result",
     "data": {
      "text/plain": "  symbol  year  low_min  high_max  avg_differential symbol_year\n0   AAAP  2015    18.00     32.92          0.287003    AAAP2015\n1   AAAP  2016    20.53     39.66          0.024980    AAAP2016\n2   AAAP  2017    26.60     81.75          0.173925    AAAP2017\n3   AAAP  2018    81.61     82.74          0.046875    AAAP2018\n4   AABA  2000    25.06    500.10         -0.713016    AABA2000",
      "text/html": "<div>\n<style scoped>\n    .dataframe tbody tr th:only-of-type {\n        vertical-align: middle;\n    }\n\n    .dataframe tbody tr th {\n        vertical-align: top;\n    }\n\n    .dataframe thead th {\n        text-align: right;\n    }\n</style>\n<table border=\"1\" class=\"dataframe\">\n  <thead>\n    <tr style=\"text-align: right;\">\n      <th></th>\n      <th>symbol</th>\n      <th>year</th>\n      <th>low_min</th>\n      <th>high_max</th>\n      <th>avg_differential</th>\n      <th>symbol_year</th>\n    </tr>\n  </thead>\n  <tbody>\n    <tr>\n      <td>0</td>\n      <td>AAAP</td>\n      <td>2015</td>\n      <td>18.00</td>\n      <td>32.92</td>\n      <td>0.287003</td>\n      <td>AAAP2015</td>\n    </tr>\n    <tr>\n      <td>1</td>\n      <td>AAAP</td>\n      <td>2016</td>\n      <td>20.53</td>\n      <td>39.66</td>\n      <td>0.024980</td>\n      <td>AAAP2016</td>\n    </tr>\n    <tr>\n      <td>2</td>\n      <td>AAAP</td>\n      <td>2017</td>\n      <td>26.60</td>\n      <td>81.75</td>\n      <td>0.173925</td>\n      <td>AAAP2017</td>\n    </tr>\n    <tr>\n      <td>3</td>\n      <td>AAAP</td>\n      <td>2018</td>\n      <td>81.61</td>\n      <td>82.74</td>\n      <td>0.046875</td>\n      <td>AAAP2018</td>\n    </tr>\n    <tr>\n      <td>4</td>\n      <td>AABA</td>\n      <td>2000</td>\n      <td>25.06</td>\n      <td>500.10</td>\n      <td>-0.713016</td>\n      <td>AABA2000</td>\n    </tr>\n  </tbody>\n</table>\n</div>"
     },
     "metadata": {},
     "execution_count": 69
    }
   ],
   "source": [
    "g_prices_df.head()"
   ]
  },
  {
   "cell_type": "code",
   "execution_count": 75,
   "metadata": {},
   "outputs": [],
   "source": [
    "# Import SQL Alchemy\n",
    "from sqlalchemy import create_engine\n",
    "# Import and establish Base for which classes will be constructed \n",
    "from sqlalchemy.ext.declarative import declarative_base\n",
    "Base = declarative_base()\n",
    "# Import modules to declare columns and column data types\n",
    "from sqlalchemy import Column, Integer, String, Float"
   ]
  },
  {
   "cell_type": "code",
   "execution_count": 82,
   "metadata": {},
   "outputs": [],
   "source": [
    "# Create our classes\n",
    "class Dividends(Base):\n",
    "    __tablename__ = 'dividends'\n",
    "    symbol_year = Column(String(20),primary_key=True)\n",
    "    symbol = Column(String(10))\n",
    "    year = Column(String(4))\n",
    "    dividend_mean = Column(Integer)\n",
    "    dividend_min = Column(Integer)\n",
    "    dividend_max = Column(Integer)\n",
    "    dividend_sum = Column(Integer)\n",
    "\n",
    "class Earnings(Base):\n",
    "    __tablename__ = 'earnings'\n",
    "    symbol_year = Column(String(20),primary_key=True)\n",
    "    symbol = Column(String(10))\n",
    "    year = Column(String(4))\n",
    "    eps_sum = Column(Integer)\n",
    "\n",
    "class Prices(Base):\n",
    "    __tablename__ = 'prices'\n",
    "    symbol_year = Column(String(20),primary_key=True)\n",
    "    symbol = Column(String(10))\n",
    "    year = Column(String(4))\n",
    "    low_min = Column(Integer)\n",
    "    high_max = Column(Integer)\n",
    "    avg_differential = Column(Integer)"
   ]
  },
  {
   "cell_type": "code",
   "execution_count": 83,
   "metadata": {},
   "outputs": [],
   "source": [
    "# Create Database Connection\n",
    "# ----------------------------------\n",
    "# Establish Connection\n",
    "engine = create_engine(\"sqlite:///stonks.sqlite\")\n",
    "conn = engine.connect()"
   ]
  },
  {
   "cell_type": "code",
   "execution_count": 84,
   "metadata": {},
   "outputs": [],
   "source": [
    "# Create both the Surfer and Board tables within the database\n",
    "Base.metadata.create_all(conn)"
   ]
  },
  {
   "cell_type": "code",
   "execution_count": 85,
   "metadata": {},
   "outputs": [],
   "source": [
    "# To push the objects made and query the server we use a Session object\n",
    "from sqlalchemy.orm import Session\n",
    "session = Session(bind=engine)"
   ]
  },
  {
   "cell_type": "code",
   "execution_count": 86,
   "metadata": {},
   "outputs": [],
   "source": [
    "g_dividends_df.to_sql(\"dividends\",engine,if_exists='replace')\n",
    "g_earnings_df.to_sql(\"earnings\",engine,if_exists='replace')\n",
    "g_prices_df.to_sql(\"prices\",engine,if_exists='replace')"
   ]
  },
  {
   "cell_type": "code",
   "execution_count": null,
   "metadata": {},
   "outputs": [],
   "source": []
  }
 ],
 "metadata": {
  "language_info": {
   "codemirror_mode": {
    "name": "ipython",
    "version": 3
   },
   "file_extension": ".py",
   "mimetype": "text/x-python",
   "name": "python",
   "nbconvert_exporter": "python",
   "pygments_lexer": "ipython3",
   "version": "3.7.4-final"
  },
  "orig_nbformat": 2,
  "kernelspec": {
   "name": "python3",
   "display_name": "Python 3"
  }
 },
 "nbformat": 4,
 "nbformat_minor": 2
}